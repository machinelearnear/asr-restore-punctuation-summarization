{
 "cells": [
  {
   "cell_type": "markdown",
   "id": "47d4231e-aefd-439a-83df-3dbbab9f30ec",
   "metadata": {},
   "source": [
    "# Detect medical entities from transcribed speech"
   ]
  },
  {
   "cell_type": "code",
   "execution_count": 1,
   "id": "efbc0a00-7696-4cf7-a167-270d112dd532",
   "metadata": {},
   "outputs": [],
   "source": [
    "input_text = open('transcripts/transcribed_speech_w_corrected_punctuation.txt','r').readlines()[0]"
   ]
  },
  {
   "cell_type": "markdown",
   "id": "0c3cd15a-e205-402a-939d-7018d757dbe9",
   "metadata": {
    "tags": []
   },
   "source": [
    "## Use `stanza-nlp`\n",
    "- https://stanfordnlp.github.io/stanza/\n",
    "- https://stanfordnlp.github.io/stanza/available_biomed_models.html\n",
    "- https://stanfordnlp.github.io/stanza/biomed_model_usage.html"
   ]
  },
  {
   "cell_type": "code",
   "execution_count": 2,
   "id": "dda4e5f8-59d5-4508-ae38-27bcc1f99671",
   "metadata": {},
   "outputs": [],
   "source": [
    "import stanza"
   ]
  },
  {
   "cell_type": "code",
   "execution_count": 3,
   "id": "ded69277-626f-4130-ab75-568f96a0c166",
   "metadata": {},
   "outputs": [
    {
     "data": {
      "application/vnd.jupyter.widget-view+json": {
       "model_id": "ba4ada694f3f443dbc7e7fd24e3bfb6a",
       "version_major": 2,
       "version_minor": 0
      },
      "text/plain": [
       "Downloading https://raw.githubusercontent.com/stanfordnlp/stanza-resources/main/resources_1.4.0.json:   0%|   …"
      ]
     },
     "metadata": {},
     "output_type": "display_data"
    },
    {
     "name": "stderr",
     "output_type": "stream",
     "text": [
      "2022-05-15 14:04:47 WARNING: Can not find ner: i2b2 from official model list. Ignoring it.\n",
      "2022-05-15 14:04:47 WARNING: Can not find package: mimic.\n",
      "2022-05-15 14:04:47 INFO: Downloading these customized packages for language: es (Spanish)...\n",
      "=======================\n",
      "| Processor | Package |\n",
      "-----------------------\n",
      "=======================\n",
      "\n",
      "2022-05-15 14:04:47 INFO: Finished downloading models and saved to /home/studio-lab-user/stanza_resources.\n"
     ]
    },
    {
     "data": {
      "application/vnd.jupyter.widget-view+json": {
       "model_id": "22ce69e1b0674bd8b255136955254bb0",
       "version_major": 2,
       "version_minor": 0
      },
      "text/plain": [
       "Downloading https://raw.githubusercontent.com/stanfordnlp/stanza-resources/main/resources_1.4.0.json:   0%|   …"
      ]
     },
     "metadata": {},
     "output_type": "display_data"
    },
    {
     "data": {
      "application/vnd.jupyter.widget-view+json": {
       "model_id": "dce9cd738329440589358d33fff7a38e",
       "version_major": 2,
       "version_minor": 0
      },
      "text/plain": [
       "Downloading https://huggingface.co/stanfordnlp/stanza-en/resolve/v1.4.0/models/tokenize/mimic.pt:   0%|       …"
      ]
     },
     "metadata": {},
     "output_type": "display_data"
    },
    {
     "data": {
      "application/vnd.jupyter.widget-view+json": {
       "model_id": "eef7e690383d48dcba0712504d91fc09",
       "version_major": 2,
       "version_minor": 0
      },
      "text/plain": [
       "Downloading https://huggingface.co/stanfordnlp/stanza-en/resolve/v1.4.0/models/pos/mimic.pt:   0%|          | …"
      ]
     },
     "metadata": {},
     "output_type": "display_data"
    },
    {
     "data": {
      "application/vnd.jupyter.widget-view+json": {
       "model_id": "3b132c2d881b4751a2f9dff4353b0628",
       "version_major": 2,
       "version_minor": 0
      },
      "text/plain": [
       "Downloading https://huggingface.co/stanfordnlp/stanza-en/resolve/v1.4.0/models/lemma/mimic.pt:   0%|          …"
      ]
     },
     "metadata": {},
     "output_type": "display_data"
    },
    {
     "data": {
      "application/vnd.jupyter.widget-view+json": {
       "model_id": "dce96d9c0d5e4eefa17842a50e2e9079",
       "version_major": 2,
       "version_minor": 0
      },
      "text/plain": [
       "Downloading https://huggingface.co/stanfordnlp/stanza-en/resolve/v1.4.0/models/depparse/mimic.pt:   0%|       …"
      ]
     },
     "metadata": {},
     "output_type": "display_data"
    },
    {
     "data": {
      "application/vnd.jupyter.widget-view+json": {
       "model_id": "e2358c2b81b44f318ee9199a5d2dbdc3",
       "version_major": 2,
       "version_minor": 0
      },
      "text/plain": [
       "Downloading https://huggingface.co/stanfordnlp/stanza-en/resolve/v1.4.0/models/ner/i2b2.pt:   0%|          | 0…"
      ]
     },
     "metadata": {},
     "output_type": "display_data"
    },
    {
     "data": {
      "application/vnd.jupyter.widget-view+json": {
       "model_id": "3f8fd8c0fe6f49e1adf7e4f8bb4efbb3",
       "version_major": 2,
       "version_minor": 0
      },
      "text/plain": [
       "Downloading https://huggingface.co/stanfordnlp/stanza-en/resolve/v1.4.0/models/backward_charlm/mimic.pt:   0%|…"
      ]
     },
     "metadata": {},
     "output_type": "display_data"
    },
    {
     "data": {
      "application/vnd.jupyter.widget-view+json": {
       "model_id": "c6f56a05412f401a9f83e9f11f83b621",
       "version_major": 2,
       "version_minor": 0
      },
      "text/plain": [
       "Downloading https://huggingface.co/stanfordnlp/stanza-en/resolve/v1.4.0/models/forward_charlm/mimic.pt:   0%| …"
      ]
     },
     "metadata": {},
     "output_type": "display_data"
    },
    {
     "data": {
      "application/vnd.jupyter.widget-view+json": {
       "model_id": "3569144aebf04447a4e26bc0fb81e616",
       "version_major": 2,
       "version_minor": 0
      },
      "text/plain": [
       "Downloading https://huggingface.co/stanfordnlp/stanza-en/resolve/v1.4.0/models/pretrain/mimic.pt:   0%|       …"
      ]
     },
     "metadata": {},
     "output_type": "display_data"
    },
    {
     "name": "stderr",
     "output_type": "stream",
     "text": [
      "2022-05-15 14:04:56 INFO: Loading these models for language: en (English):\n",
      "=======================\n",
      "| Processor | Package |\n",
      "-----------------------\n",
      "| tokenize  | mimic   |\n",
      "| pos       | mimic   |\n",
      "| lemma     | mimic   |\n",
      "| depparse  | mimic   |\n",
      "| ner       | i2b2    |\n",
      "=======================\n",
      "\n",
      "2022-05-15 14:04:56 INFO: Use device: cpu\n",
      "2022-05-15 14:04:56 INFO: Loading: tokenize\n",
      "2022-05-15 14:04:56 INFO: Loading: pos\n",
      "2022-05-15 14:04:56 INFO: Loading: lemma\n",
      "2022-05-15 14:04:56 INFO: Loading: depparse\n",
      "2022-05-15 14:04:56 INFO: Loading: ner\n",
      "2022-05-15 14:04:57 INFO: Done loading processors!\n"
     ]
    },
    {
     "name": "stdout",
     "output_type": "stream",
     "text": [
      "previa\tPROBLEM\n",
      "intestinales\tPROBLEM\n",
      "Eldoctor\tTEST\n",
      "esa\tTREATMENT\n",
      "una diabetes\tPROBLEM\n",
      "qué síntomas\tPROBLEM\n",
      "lossíntomas\tTEST\n",
      "a su vez tienen manifestaciones extraintestinales\tTREATMENT\n",
      "También\tTREATMENT\n",
      "necesariamente\tPROBLEM\n",
      "cibilidad\tTREATMENT\n",
      "alibrmentaciónmacedentaría\tTREATMENT\n",
      "mostavaquismo\tTREATMENT\n",
      "alcolismo\tTREATMENT\n"
     ]
    }
   ],
   "source": [
    "# download and initialize a mimic pipeline with an i2b2 NER model\n",
    "stanza.download('en', package='mimic', processors={'ner': 'i2b2'})\n",
    "nlp = stanza.Pipeline('en', package='mimic', processors={'ner': 'i2b2'})"
   ]
  },
  {
   "cell_type": "code",
   "execution_count": 7,
   "id": "be3ec37f-869c-4fd1-bdd6-a47b4adf457a",
   "metadata": {},
   "outputs": [
    {
     "name": "stdout",
     "output_type": "stream",
     "text": [
      "previa\tPROBLEM\n",
      "intestinales\tPROBLEM\n",
      "Eldoctor\tTEST\n",
      "esa\tTREATMENT\n",
      "una diabetes\tPROBLEM\n",
      "qué síntomas\tPROBLEM\n",
      "lossíntomas\tTEST\n",
      "a su vez tienen manifestaciones extraintestinales\tTREATMENT\n",
      "También\tTREATMENT\n",
      "necesariamente\tPROBLEM\n",
      "cibilidad\tTREATMENT\n",
      "alibrmentaciónmacedentaría\tTREATMENT\n",
      "mostavaquismo\tTREATMENT\n",
      "alcolismo\tTREATMENT\n"
     ]
    }
   ],
   "source": [
    "# annotate clinical text\n",
    "doc = nlp(input_text)\n",
    "# print out all entities\n",
    "for ent in doc.entities:\n",
    "    print(f'{ent.text}\\t{ent.type}')"
   ]
  },
  {
   "cell_type": "markdown",
   "id": "a826affe-307a-4fcf-bab0-f2c24252c6e9",
   "metadata": {},
   "source": [
    "## Summarization with Hugging Face Transformers"
   ]
  },
  {
   "cell_type": "code",
   "execution_count": 4,
   "id": "56178d30-10e7-4530-9971-ebd616fc73a4",
   "metadata": {},
   "outputs": [],
   "source": [
    "# model_name = \"google/pegasus-large\"\n",
    "model_name = \"google/pegasus-xsum\"\n",
    "# model_name = \"csebuetnlp/mT5_multilingual_XLSum\"\n",
    "# model_name = \"sshleifer/distilbart-cnn-12-6\"\n",
    "# model_name = 'ELiRF/NASES'"
   ]
  },
  {
   "cell_type": "code",
   "execution_count": 5,
   "id": "fb667d41-1308-45bc-9cd1-a9b1aaa79964",
   "metadata": {},
   "outputs": [
    {
     "data": {
      "application/vnd.jupyter.widget-view+json": {
       "model_id": "1ba297fc85484859b983e12a1eb5698d",
       "version_major": 2,
       "version_minor": 0
      },
      "text/plain": [
       "Downloading:   0%|          | 0.00/1.67k [00:00<?, ?B/s]"
      ]
     },
     "metadata": {},
     "output_type": "display_data"
    },
    {
     "data": {
      "application/vnd.jupyter.widget-view+json": {
       "model_id": "ff2bd694077b4c8ead19295a43ff8c3f",
       "version_major": 2,
       "version_minor": 0
      },
      "text/plain": [
       "Downloading:   0%|          | 0.00/1.36k [00:00<?, ?B/s]"
      ]
     },
     "metadata": {},
     "output_type": "display_data"
    },
    {
     "data": {
      "application/vnd.jupyter.widget-view+json": {
       "model_id": "b3285b17b79043889d5bbdd7f7e3c328",
       "version_major": 2,
       "version_minor": 0
      },
      "text/plain": [
       "Downloading:   0%|          | 0.00/2.12G [00:00<?, ?B/s]"
      ]
     },
     "metadata": {},
     "output_type": "display_data"
    },
    {
     "data": {
      "application/vnd.jupyter.widget-view+json": {
       "model_id": "a973e458f3c84fc3b83c0d543e2208d9",
       "version_major": 2,
       "version_minor": 0
      },
      "text/plain": [
       "Downloading:   0%|          | 0.00/87.0 [00:00<?, ?B/s]"
      ]
     },
     "metadata": {},
     "output_type": "display_data"
    },
    {
     "data": {
      "application/vnd.jupyter.widget-view+json": {
       "model_id": "3535e5d149304d1196932b94da9862e4",
       "version_major": 2,
       "version_minor": 0
      },
      "text/plain": [
       "Downloading:   0%|          | 0.00/1.82M [00:00<?, ?B/s]"
      ]
     },
     "metadata": {},
     "output_type": "display_data"
    },
    {
     "data": {
      "application/vnd.jupyter.widget-view+json": {
       "model_id": "5ddd9928fb5a4829be000bc6d136a006",
       "version_major": 2,
       "version_minor": 0
      },
      "text/plain": [
       "Downloading:   0%|          | 0.00/3.36M [00:00<?, ?B/s]"
      ]
     },
     "metadata": {},
     "output_type": "display_data"
    },
    {
     "data": {
      "application/vnd.jupyter.widget-view+json": {
       "model_id": "b528328014c24e3aaa40f6bf6e06832e",
       "version_major": 2,
       "version_minor": 0
      },
      "text/plain": [
       "Downloading:   0%|          | 0.00/65.0 [00:00<?, ?B/s]"
      ]
     },
     "metadata": {},
     "output_type": "display_data"
    }
   ],
   "source": [
    "from transformers import pipeline\n",
    "pipe = pipeline(model=model_name)"
   ]
  },
  {
   "cell_type": "code",
   "execution_count": 14,
   "id": "c124c601-512e-4e01-8746-520bc960eac4",
   "metadata": {},
   "outputs": [],
   "source": [
    "summary = pipe(input_text,truncation=True)"
   ]
  },
  {
   "cell_type": "code",
   "execution_count": 17,
   "id": "2ba0705e-e432-434b-a681-52be9b46eb8c",
   "metadata": {},
   "outputs": [
    {
     "name": "stdout",
     "output_type": "stream",
     "text": [
      "La enfermedad de Cron es una enfermedad inflamatoria del intestino Sque entra dentro del grupo de las enfermedades inflamatorias.\n"
     ]
    }
   ],
   "source": [
    "print(summary[0]['summary_text'])"
   ]
  }
 ],
 "metadata": {
  "kernelspec": {
   "display_name": "machinelearnear-asr-clinical-biomedical-ehr:Python",
   "language": "python",
   "name": "conda-env-machinelearnear-asr-clinical-biomedical-ehr-py"
  },
  "language_info": {
   "codemirror_mode": {
    "name": "ipython",
    "version": 3
   },
   "file_extension": ".py",
   "mimetype": "text/x-python",
   "name": "python",
   "nbconvert_exporter": "python",
   "pygments_lexer": "ipython3",
   "version": "3.9.12"
  }
 },
 "nbformat": 4,
 "nbformat_minor": 5
}
