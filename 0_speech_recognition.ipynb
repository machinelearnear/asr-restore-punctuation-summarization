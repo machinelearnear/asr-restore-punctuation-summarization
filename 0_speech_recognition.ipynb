{
 "cells": [
  {
   "cell_type": "markdown",
   "id": "d1c77592-6089-4784-882d-9d580cf17cb7",
   "metadata": {},
   "source": [
    "# Long-form audio transcription using Hugging Face Transformers\n",
    "Source: https://github.com/machinelearnear/long-audio-transcription-spanish"
   ]
  },
  {
   "cell_type": "code",
   "execution_count": 1,
   "id": "1550f7bf-f574-4cff-805e-12b2cfe3f081",
   "metadata": {},
   "outputs": [],
   "source": [
    "import time\n",
    "from os.path import exists as path_exists\n",
    "from pathlib import Path"
   ]
  },
  {
   "cell_type": "code",
   "execution_count": 2,
   "id": "ea02b3ec-2529-4ad5-bd48-020adbef5d87",
   "metadata": {},
   "outputs": [],
   "source": [
    "if not path_exists('transcripts'):\n",
    "    !mkdir transcripts"
   ]
  },
  {
   "cell_type": "markdown",
   "id": "7ec17367-9c61-41ab-9673-a7c7e9ffb1ae",
   "metadata": {
    "tags": []
   },
   "source": [
    "## Download audio from YouTube video"
   ]
  },
  {
   "cell_type": "code",
   "execution_count": 3,
   "id": "6e75937b-3932-40d7-911c-270a02ef1815",
   "metadata": {},
   "outputs": [],
   "source": [
    "YouTubeID = 'q0Zq5DKKZWs' # ¿Qué es la enfermedad de Crohn y cómo detectarla?\n",
    "OutputFile = 'test_audio_youtube.m4a'"
   ]
  },
  {
   "cell_type": "code",
   "execution_count": 4,
   "id": "d1b44aa6-d803-4b6c-9b67-ca93c03a453c",
   "metadata": {},
   "outputs": [
    {
     "name": "stdout",
     "output_type": "stream",
     "text": [
      "[youtube] q0Zq5DKKZWs: Downloading webpage\n",
      "[youtube] q0Zq5DKKZWs: Downloading MPD manifest\n",
      "[download] Destination: test_audio_youtube.m4a\n",
      "\u001b[K[download] 100% of 6.50MiB in 01:2595KiB/s ETA 00:004\n",
      "[ffmpeg] Correcting container in \"test_audio_youtube.m4a\"\n",
      "[ffmpeg] Post-process file test_audio_youtube.m4a exists, skipping\n"
     ]
    }
   ],
   "source": [
    "if not path_exists(OutputFile):\n",
    "    !youtube-dl -o $OutputFile $YouTubeID --extract-audio --restrict-filenames -f 'bestaudio[ext=m4a]'"
   ]
  },
  {
   "cell_type": "markdown",
   "id": "4c5e10fc-68b7-4a3f-b8fc-5bd38874594c",
   "metadata": {},
   "source": [
    "## End to End Automatic Speech Recognition"
   ]
  },
  {
   "cell_type": "markdown",
   "id": "6d3196b3-6172-4d81-9cd3-7f7d391c43d2",
   "metadata": {},
   "source": [
    "Choose best models from this list: https://huggingface.co/spaces/speech-recognition-community-v2/FinalLeaderboard"
   ]
  },
  {
   "cell_type": "code",
   "execution_count": 5,
   "id": "b2717b5d-46fa-4493-a7f7-d214666db611",
   "metadata": {},
   "outputs": [],
   "source": [
    "model_name = \"jonatasgrosman/wav2vec2-xls-r-1b-spanish\""
   ]
  },
  {
   "cell_type": "code",
   "execution_count": 6,
   "id": "e4880622-2cdc-4a11-8a3f-f250808bb6ed",
   "metadata": {},
   "outputs": [],
   "source": [
    "def save_to_file(transcript, text=None):\n",
    "    with open(f'transcripts/transcribed_speech_{text}.txt', \"w\") as f:\n",
    "        f.write(transcript)"
   ]
  },
  {
   "cell_type": "markdown",
   "id": "fb7331b8-4f19-4627-8d7e-9a66f532bd5d",
   "metadata": {},
   "source": [
    "### Process long audio file directly with `Pipelines`"
   ]
  },
  {
   "cell_type": "code",
   "execution_count": 7,
   "id": "aa414299-bac3-4145-9e6c-891aabe2317c",
   "metadata": {},
   "outputs": [
    {
     "name": "stderr",
     "output_type": "stream",
     "text": [
      "/home/studio-lab-user/.conda/envs/machinelearnear-asr-clinical-biomedical-ehr/lib/python3.9/site-packages/paramiko/transport.py:236: CryptographyDeprecationWarning: Blowfish has been deprecated\n",
      "  \"class\": algorithms.Blowfish,\n"
     ]
    }
   ],
   "source": [
    "import librosa\n",
    "from transformers import pipeline"
   ]
  },
  {
   "cell_type": "code",
   "execution_count": 8,
   "id": "eb3ced5c-49ca-477a-a7df-f3e12c516d85",
   "metadata": {},
   "outputs": [
    {
     "data": {
      "application/vnd.jupyter.widget-view+json": {
       "model_id": "21edd1ea72f24956a0703aa64555f15c",
       "version_major": 2,
       "version_minor": 0
      },
      "text/plain": [
       "Downloading:   0%|          | 0.00/4.48k [00:00<?, ?B/s]"
      ]
     },
     "metadata": {},
     "output_type": "display_data"
    },
    {
     "data": {
      "application/vnd.jupyter.widget-view+json": {
       "model_id": "3af92dba324141b7a9deb93761aaeb23",
       "version_major": 2,
       "version_minor": 0
      },
      "text/plain": [
       "Downloading:   0%|          | 0.00/3.59G [00:00<?, ?B/s]"
      ]
     },
     "metadata": {},
     "output_type": "display_data"
    },
    {
     "data": {
      "application/vnd.jupyter.widget-view+json": {
       "model_id": "63b16f96d4b84e559f649faf71622c63",
       "version_major": 2,
       "version_minor": 0
      },
      "text/plain": [
       "Downloading:   0%|          | 0.00/314 [00:00<?, ?B/s]"
      ]
     },
     "metadata": {},
     "output_type": "display_data"
    },
    {
     "data": {
      "application/vnd.jupyter.widget-view+json": {
       "model_id": "0f9203cd00cd475f94d07ea521770838",
       "version_major": 2,
       "version_minor": 0
      },
      "text/plain": [
       "Downloading:   0%|          | 0.00/370 [00:00<?, ?B/s]"
      ]
     },
     "metadata": {},
     "output_type": "display_data"
    },
    {
     "data": {
      "application/vnd.jupyter.widget-view+json": {
       "model_id": "92439662591f4b07ab35c5a18ea44bf5",
       "version_major": 2,
       "version_minor": 0
      },
      "text/plain": [
       "Downloading:   0%|          | 0.00/85.0 [00:00<?, ?B/s]"
      ]
     },
     "metadata": {},
     "output_type": "display_data"
    },
    {
     "data": {
      "application/vnd.jupyter.widget-view+json": {
       "model_id": "1699145636be4c0dafef3c93007733fd",
       "version_major": 2,
       "version_minor": 0
      },
      "text/plain": [
       "Downloading:   0%|          | 0.00/260 [00:00<?, ?B/s]"
      ]
     },
     "metadata": {},
     "output_type": "display_data"
    },
    {
     "name": "stderr",
     "output_type": "stream",
     "text": [
      "Could not load the `decoder` for jonatasgrosman/wav2vec2-xls-r-1b-spanish. Defaulting to raw CTC. Try to install `pyctcdecode` and `kenlm`: (`pip install pyctcdecode`, `pip install https://github.com/kpu/kenlm/archive/master.zip`): Error: No module named 'kenlm'\n"
     ]
    }
   ],
   "source": [
    "pipe = pipeline(model=model_name)"
   ]
  },
  {
   "cell_type": "code",
   "execution_count": 9,
   "id": "10c7ec23-b477-4d11-a902-e3617c4ea241",
   "metadata": {},
   "outputs": [
    {
     "name": "stderr",
     "output_type": "stream",
     "text": [
      "/home/studio-lab-user/.conda/envs/machinelearnear-asr-clinical-biomedical-ehr/lib/python3.9/site-packages/librosa/util/decorators.py:88: UserWarning: PySoundFile failed. Trying audioread instead.\n",
      "  return f(*args, **kwargs)\n"
     ]
    }
   ],
   "source": [
    "speech, sample_rate = librosa.load(OutputFile,sr=16000)"
   ]
  },
  {
   "cell_type": "code",
   "execution_count": 10,
   "id": "5da12838-4eb6-4d05-b5a5-587b36514acc",
   "metadata": {},
   "outputs": [
    {
     "name": "stdout",
     "output_type": "stream",
     "text": [
      "total time: 665.79 seconds\n"
     ]
    }
   ],
   "source": [
    "stime = time.time()\n",
    "transcript = pipe(speech, chunk_length_s=10, stride_length_s=(4,2))\n",
    "print(f'total time: {time.time()-stime:.2f} seconds')"
   ]
  },
  {
   "cell_type": "code",
   "execution_count": 11,
   "id": "3511adb2-150a-4117-880e-dcf309741591",
   "metadata": {},
   "outputs": [
    {
     "name": "stdout",
     "output_type": "stream",
     "text": [
      "estamos con marcelo ferre es gastro enterólogo cómo le va a doctor buenas noches unasa ver hoy charlaba con nuestros compañeros de trabajo y decía no pero murió de un cáncer y había otra enfermedad previa y cómo es estocuéntenos la enfermedad de croncque esla enfermedad de cron correcto fernando la enfermedad de cron es una enfermedad inflamatoria del intestino sque entra dentro del grupo de las enfermedades inflamatorias intestinales que son enfermedades crónicas son autoinmunes tienen una base genética son raras en el sentido del diagnóstico son poco frecuentes hay pacientes en todo el país empacientes con esta enfermedad nada más nada más en todo el país o al menos diagnosticados se diagnosticado y conocido sicon algún seguimiento por parte de sus médicos uno cada chabitantes puede tener esta enfermedad aunque no la diagnostiquemos tan frecuentemente y en realidadcuesta diagnosticarla en el sentido al no verla y al no estar en contacto con ellos el diagnóstico es de difícil acceso eldoctor cuéntenos por ejemplo esa imagen que estamos observando nosotrosaimagen completa por favor dire vamos a agradecer porqe eldoctor vamos a utilizar una cuestión didáctica esto es un video que nosotros bajamos de las redes como para entender cuálesporahí estamos viendo el aparato digestio correcto en ese aparato digestivo la lupa se está posando en dónde en el intestino delgado yahí va hacía el grueso ahí va ahacía el gruesoeesta enfermedad se manifiesta en el grueso en el delgado o en ambos enambos desde la boca alano aopor eso las complicaciones tremendas porlas complicaciones que tiene la enfermedad cuando no se le diagnosticuae y no se la atrata esta enfermedad es mortal en realidad es una enfermedad crónica y como todas las enfermedades crónicas yo se la comparo con una diabetes por ejemploes una enfermedad que puede terminar siendo mortal pero si no se la controla primero si no se la diagnostica no se la controla y no tiene un seguimiento yo puedo intuir que tengo la enfermedad debien digo de cron por qué síntomas lossíntomas más comunes generalmente gente entre  taños esla edad del debut y tienen dolor abdominal pueden tener diarrea pueden tener fiebre pueden tener algún sangrado intestinal pero a su vez tienen manifestaciones extraintestinales como pueden ser dolores articulares es decir es una enfermedad sistémica es una enfermedad que no solamente puede afectar el intestino delgado quees msu parte más frecuente lugar  que lo afecta puede afectar el colón pero también hay enfermedad de crón de estómago de sófago son más raras dentro de la rareza de la propia enfermedad estas también son más raras las localizacione nosotrosentendemos que en estos espacios lo que vemos hacer es no llenar de miedo sino que instruir a través de la palabra de utdsye los profesionales de cómo no puede estar advertido esto porque por ejemplo si tengo diarrea esta noche no significa que estoy enfermo para itimatología puede responder un montón de cosas me comió un lechón y me cayó mal pero lo que te quiero decir des estos elementos qsonaquellos que se conjugan para establecer un primer diagnóstico una aproximación yenel caso de hendler aél le demandó como trebarracuatro años para diagnosticarla porque son difíciles de diagnosticar al verse poco son difíciles de diagnosticar todo depende por donde uno vaya a consultar si vos me dices yo voy con estos síntomas que acabamos de hablar a un médico clínico por ahí es más gamodifícil para el clínico que para un gastro enterólogo que las vemos más pero no significa que el clínico no las pueda diagnosticar también las puede diagnosticalguna preguntaesta enfermedad podemos decir que decanta en el cáncer que luego termina con la vida de genre o no necesariamente una cosa vaatada a la otra no necesariamente la enfermedad de crón es una enfermedad repito crónica autinmune que si tiene un seguimiento y tiene un tratamiento no debería terminar en un cancertres patas del tratamiento que usted por ejemplo me diagnosticaría a mí si usted dice mireidalgo usted tiene o padece esta patología tres patas del tratamiento enel tratamiento básicamente tiene que haber un tratamiento psicológicoporque ese paciente tiene que tener una contención tiene que tener un seguimiento y tiene que entender de que esta enfermedad la puede llevar hasta el final de sus días y morir de cualquier otra cosa menos de a enfermedad de crom es muy importante el enfoque y el apoyo psicológico después el tratamiento médico hoy endía hay tratamiento farmacológico un tratamiento farmacológico con anticuerpos monoclonales es un tratamiento realmente que hoy lo curre en todas las obras sociales es decir tiene tratamiento no tiene cura tiene trataiteneso cambia los hábitos de alimentación también los hábitos de alimentación también estos pacientes tienen una dieta a seguir una dieta más conveniente una dieta saludablerica en fibras con un cuidado especial del intestino no es una dieta que no la pueda hacer o sea no es algo extraordinario si vienes una enfermedad rara cuando se detecta se la puede tratar dctor le ha tocado diagnosticar sísss claro no son muchos los pacientes que hahy el mendoza menos site imagina que a nivel país hay ade los que están documentados estadificados y demás es poco frecuente usted ha podido llevar adelante buenos tratamientos sitenés buenos resultados por qué me habloó el tratamiento psicológico porque es una parte muy importante del paciéntte todas las enfermedades inflamatorias del intestino tienen que tener un acompañamiento psicológico porque están influenciando se considera quel intestino es el segundo cerebro y tiene comunicación con nuestro primer cerebro que es el que la geneque todos conocemoshabitualmente exactamente y de la armonía de los dos cerebros el resultado también del seguimiento deestresfastidios ira cibilidad alibrmentaciónmacedentaría mostavaquismo alcolismo bueno todo lo que te puedas imaginar agrede y tiene sus consecuencias doctorcomo mensaje final no hay que temerles estas cosas sino que hay que enfrentarlas y tratarlas totalmente estos pacientes tienen un seguimiento tienen un tratamiento y no es sinónimo ypara tranquilidad de todos estos pacientes que pueden tener o nos pueden estar escuchando no es sinónimo que van a padecer un cáncer deintestino ni mucho menos tienen exactamente estos pacientes las mismas posibilidades de hacer un cáncer de colón que cualquier otro paciente siempre y cuando estén en tratamiento y en seguimiento rhasido umuy amabl gracias por su tiempo buenas noches\n"
     ]
    }
   ],
   "source": [
    "print(transcript['text'])\n",
    "save_to_file(transcript['text'],text='hf_pipelines')"
   ]
  },
  {
   "cell_type": "markdown",
   "id": "ebfccbe7-e7fa-4cb8-ac00-1e3e01122399",
   "metadata": {},
   "source": [
    "## References"
   ]
  },
  {
   "cell_type": "markdown",
   "id": "4d500173-0460-445e-8ebc-bc395c9f5d02",
   "metadata": {},
   "source": [
    "- [Making automatic speech recognition work on large files with Wav2Vec2 in Transformers](https://huggingface.co/blog/asr-chunking)\n",
    "- [Boosting Wav2Vec2 with n-grams in Transformers](https://huggingface.co/blog/wav2vec2-with-ngram)\n",
    "- https://huggingface.co/jonatasgrosman/wav2vec2-xls-r-1b-spanish\n",
    "- https://huggingface.co/jonatasgrosman/wav2vec2-large-xlsr-53-spanish\n",
    "- https://huggingface.co/spaces/speech-recognition-community-v2/FinalLeaderboard"
   ]
  }
 ],
 "metadata": {
  "kernelspec": {
   "display_name": "machinelearnear-asr-clinical-biomedical-ehr:Python",
   "language": "python",
   "name": "conda-env-machinelearnear-asr-clinical-biomedical-ehr-py"
  },
  "language_info": {
   "codemirror_mode": {
    "name": "ipython",
    "version": 3
   },
   "file_extension": ".py",
   "mimetype": "text/x-python",
   "name": "python",
   "nbconvert_exporter": "python",
   "pygments_lexer": "ipython3",
   "version": "3.9.12"
  }
 },
 "nbformat": 4,
 "nbformat_minor": 5
}
