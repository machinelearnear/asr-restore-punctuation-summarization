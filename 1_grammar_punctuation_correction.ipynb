{
 "cells": [
  {
   "cell_type": "markdown",
   "id": "54167e9c-e214-4079-a4e1-49fbb0cc44ac",
   "metadata": {},
   "source": [
    "# Restore Punctuation with Hugging Face Transformers"
   ]
  },
  {
   "cell_type": "markdown",
   "id": "7599a193-b905-49a3-882b-c68e8d1963b7",
   "metadata": {},
   "source": [
    "## Fix grammar mistakes"
   ]
  },
  {
   "cell_type": "markdown",
   "id": "06230192-7d96-4d29-a1fa-864841172516",
   "metadata": {},
   "source": [
    "### Load transcript"
   ]
  },
  {
   "cell_type": "code",
   "execution_count": 1,
   "id": "a207b52f-4731-46b3-bd2a-91dd0b541751",
   "metadata": {
    "tags": []
   },
   "outputs": [],
   "source": [
    "input_text = open('transcripts/transcribed_speech_hf_pipelines.txt','r').readlines()[0]"
   ]
  },
  {
   "cell_type": "code",
   "execution_count": 2,
   "id": "75498413-5cd3-4511-9bef-96411fa55042",
   "metadata": {},
   "outputs": [
    {
     "data": {
      "text/plain": [
       "'estamos con marcelo ferre es gastro enterólogo cómo le va a doctor buenas noches unasa ver hoy charlaba con nuestros compañeros de trabajo y decía no pero murió de un cáncer y había otra enfermedad previa y cómo es estocuéntenos la enfermedad de croncque esla enfermedad de cron correcto fernando la enfermedad de cron es una enfermedad inflamatoria del intestino sque entra dentro del grupo de las enfermedades inflamatorias intestinales que son enfermedades crónicas son autoinmunes tienen una base genética son raras en el sentido del diagnóstico son poco frecuentes hay pacientes en todo el país empacientes con esta enfermedad nada más nada más en todo el país o al menos diagnosticados se diagnosticado y conocido sicon algún seguimiento por parte de sus médicos uno cada chabitantes puede tener esta enfermedad aunque no la diagnostiquemos tan frecuentemente y en realidadcuesta diagnosticarla en el sentido al no verla y al no estar en contacto con ellos el diagnóstico es de difícil acceso eldoctor cuéntenos por ejemplo esa imagen que estamos observando nosotrosaimagen completa por favor dire vamos a agradecer porqe eldoctor vamos a utilizar una cuestión didáctica esto es un video que nosotros bajamos de las redes como para entender cuálesporahí estamos viendo el aparato digestio correcto en ese aparato digestivo la lupa se está posando en dónde en el intestino delgado yahí va hacía el grueso ahí va ahacía el gruesoeesta enfermedad se manifiesta en el grueso en el delgado o en ambos enambos desde la boca alano aopor eso las complicaciones tremendas porlas complicaciones que tiene la enfermedad cuando no se le diagnosticuae y no se la atrata esta enfermedad es mortal en realidad es una enfermedad crónica y como todas las enfermedades crónicas yo se la comparo con una diabetes por ejemploes una enfermedad que puede terminar siendo mortal pero si no se la controla primero si no se la diagnostica no se la controla y no tiene un seguimiento yo puedo intuir que tengo la enfermedad debien digo de cron por qué síntomas lossíntomas más comunes generalmente gente entre  taños esla edad del debut y tienen dolor abdominal pueden tener diarrea pueden tener fiebre pueden tener algún sangrado intestinal pero a su vez tienen manifestaciones extraintestinales como pueden ser dolores articulares es decir es una enfermedad sistémica es una enfermedad que no solamente puede afectar el intestino delgado quees msu parte más frecuente lugar  que lo afecta puede afectar el colón pero también hay enfermedad de crón de estómago de sófago son más raras dentro de la rareza de la propia enfermedad estas también son más raras las localizacione nosotrosentendemos que en estos espacios lo que vemos hacer es no llenar de miedo sino que instruir a través de la palabra de utdsye los profesionales de cómo no puede estar advertido esto porque por ejemplo si tengo diarrea esta noche no significa que estoy enfermo para itimatología puede responder un montón de cosas me comió un lechón y me cayó mal pero lo que te quiero decir des estos elementos qsonaquellos que se conjugan para establecer un primer diagnóstico una aproximación yenel caso de hendler aél le demandó como trebarracuatro años para diagnosticarla porque son difíciles de diagnosticar al verse poco son difíciles de diagnosticar todo depende por donde uno vaya a consultar si vos me dices yo voy con estos síntomas que acabamos de hablar a un médico clínico por ahí es más gamodifícil para el clínico que para un gastro enterólogo que las vemos más pero no significa que el clínico no las pueda diagnosticar también las puede diagnosticalguna preguntaesta enfermedad podemos decir que decanta en el cáncer que luego termina con la vida de genre o no necesariamente una cosa vaatada a la otra no necesariamente la enfermedad de crón es una enfermedad repito crónica autinmune que si tiene un seguimiento y tiene un tratamiento no debería terminar en un cancertres patas del tratamiento que usted por ejemplo me diagnosticaría a mí si usted dice mireidalgo usted tiene o padece esta patología tres patas del tratamiento enel tratamiento básicamente tiene que haber un tratamiento psicológicoporque ese paciente tiene que tener una contención tiene que tener un seguimiento y tiene que entender de que esta enfermedad la puede llevar hasta el final de sus días y morir de cualquier otra cosa menos de a enfermedad de crom es muy importante el enfoque y el apoyo psicológico después el tratamiento médico hoy endía hay tratamiento farmacológico un tratamiento farmacológico con anticuerpos monoclonales es un tratamiento realmente que hoy lo curre en todas las obras sociales es decir tiene tratamiento no tiene cura tiene trataiteneso cambia los hábitos de alimentación también los hábitos de alimentación también estos pacientes tienen una dieta a seguir una dieta más conveniente una dieta saludablerica en fibras con un cuidado especial del intestino no es una dieta que no la pueda hacer o sea no es algo extraordinario si vienes una enfermedad rara cuando se detecta se la puede tratar dctor le ha tocado diagnosticar sísss claro no son muchos los pacientes que hahy el mendoza menos site imagina que a nivel país hay ade los que están documentados estadificados y demás es poco frecuente usted ha podido llevar adelante buenos tratamientos sitenés buenos resultados por qué me habloó el tratamiento psicológico porque es una parte muy importante del paciéntte todas las enfermedades inflamatorias del intestino tienen que tener un acompañamiento psicológico porque están influenciando se considera quel intestino es el segundo cerebro y tiene comunicación con nuestro primer cerebro que es el que la geneque todos conocemoshabitualmente exactamente y de la armonía de los dos cerebros el resultado también del seguimiento deestresfastidios ira cibilidad alibrmentaciónmacedentaría mostavaquismo alcolismo bueno todo lo que te puedas imaginar agrede y tiene sus consecuencias doctorcomo mensaje final no hay que temerles estas cosas sino que hay que enfrentarlas y tratarlas totalmente estos pacientes tienen un seguimiento tienen un tratamiento y no es sinónimo ypara tranquilidad de todos estos pacientes que pueden tener o nos pueden estar escuchando no es sinónimo que van a padecer un cáncer deintestino ni mucho menos tienen exactamente estos pacientes las mismas posibilidades de hacer un cáncer de colón que cualquier otro paciente siempre y cuando estén en tratamiento y en seguimiento rhasido umuy amabl gracias por su tiempo buenas noches'"
      ]
     },
     "execution_count": 2,
     "metadata": {},
     "output_type": "execute_result"
    }
   ],
   "source": [
    "input_text"
   ]
  },
  {
   "cell_type": "markdown",
   "id": "4c6f7d2b-1447-4cf6-bb07-d3e4d38c9806",
   "metadata": {},
   "source": [
    "### Using `pyspellchecker`\n",
    "- https://pyspellchecker.readthedocs.io/en/latest/index.html"
   ]
  },
  {
   "cell_type": "code",
   "execution_count": 3,
   "id": "8905ab42-d40e-4d66-9084-0df199260433",
   "metadata": {},
   "outputs": [],
   "source": [
    "from spellchecker import SpellChecker\n",
    "\n",
    "spell_py = SpellChecker(language='es', distance=2)  # Spanish dictionary"
   ]
  },
  {
   "cell_type": "code",
   "execution_count": 4,
   "id": "5333c425-2c6e-4fd4-8558-d0789a034dbe",
   "metadata": {},
   "outputs": [
    {
     "name": "stdout",
     "output_type": "stream",
     "text": [
      "estamos con marcelo ferre es gastro enterólogo cómo le va a doctor buenas noches unasa ver hoy charlaba con nuestros compañeros de trabajo y decía no pero murió de un cáncer y había otra enfermedad previa y cómo es estocuéntenos la enfermedad de croncque esla enfermedad de cron correcto fernando la enfermedad de cron es una enfermedad inflamatoria del intestino sque entra dentro del grupo de las enfermedades inflamatorias intestinales que son enfermedades crónicas son autoinmunes tienen una base genética son raras en el sentido del diagnóstico son poco frecuentes hay pacientes en todo el país empacientes con esta enfermedad nada más nada más en todo el país o al menos diagnosticados se diagnosticado y conocido sicon algún seguimiento por parte de sus médicos uno cada chabitantes puede tener esta enfermedad aunque no la diagnostiquemos tan frecuentemente y en realidadcuesta diagnosticarla en el sentido al no verla y al no estar en contacto con ellos el diagnóstico es de difícil acceso eldoctor cuéntenos por ejemplo esa imagen que estamos observando nosotrosaimagen completa por favor dire vamos a agradecer porqe eldoctor vamos a utilizar una cuestión didáctica esto es un video que nosotros bajamos de las redes como para entender cuálesporahí estamos viendo el aparato digestio correcto en ese aparato digestivo la lupa se está posando en dónde en el intestino delgado yahí va hacía el grueso ahí va ahacía el gruesoeesta enfermedad se manifiesta en el grueso en el delgado o en ambos enambos desde la boca alano aopor eso las complicaciones tremendas porlas complicaciones que tiene la enfermedad cuando no se le diagnosticuae y no se la atrata esta enfermedad es mortal en realidad es una enfermedad crónica y como todas las enfermedades crónicas yo se la comparo con una diabetes por ejemploes una enfermedad que puede terminar siendo mortal pero si no se la controla primero si no se la diagnostica no se la controla y no tiene un seguimiento yo puedo intuir que tengo la enfermedad debien digo de cron por qué síntomas lossíntomas más comunes generalmente gente entre  taños esla edad del debut y tienen dolor abdominal pueden tener diarrea pueden tener fiebre pueden tener algún sangrado intestinal pero a su vez tienen manifestaciones extraintestinales como pueden ser dolores articulares es decir es una enfermedad sistémica es una enfermedad que no solamente puede afectar el intestino delgado quees msu parte más frecuente lugar  que lo afecta puede afectar el colón pero también hay enfermedad de crón de estómago de sófago son más raras dentro de la rareza de la propia enfermedad estas también son más raras las localizacione nosotrosentendemos que en estos espacios lo que vemos hacer es no llenar de miedo sino que instruir a través de la palabra de utdsye los profesionales de cómo no puede estar advertido esto porque por ejemplo si tengo diarrea esta noche no significa que estoy enfermo para itimatología puede responder un montón de cosas me comió un lechón y me cayó mal pero lo que te quiero decir des estos elementos qsonaquellos que se conjugan para establecer un primer diagnóstico una aproximación yenel caso de hendler aél le demandó como trebarracuatro años para diagnosticarla porque son difíciles de diagnosticar al verse poco son difíciles de diagnosticar todo depende por donde uno vaya a consultar si vos me dices yo voy con estos síntomas que acabamos de hablar a un médico clínico por ahí es más gamodifícil para el clínico que para un gastro enterólogo que las vemos más pero no significa que el clínico no las pueda diagnosticar también las puede diagnosticalguna preguntaesta enfermedad podemos decir que decanta en el cáncer que luego termina con la vida de genre o no necesariamente una cosa vaatada a la otra no necesariamente la enfermedad de crón es una enfermedad repito crónica autinmune que si tiene un seguimiento y tiene un tratamiento no debería terminar en un cancertres patas del tratamiento que usted por ejemplo me diagnosticaría a mí si usted dice mireidalgo usted tiene o padece esta patología tres patas del tratamiento enel tratamiento básicamente tiene que haber un tratamiento psicológicoporque ese paciente tiene que tener una contención tiene que tener un seguimiento y tiene que entender de que esta enfermedad la puede llevar hasta el final de sus días y morir de cualquier otra cosa menos de a enfermedad de crom es muy importante el enfoque y el apoyo psicológico después el tratamiento médico hoy endía hay tratamiento farmacológico un tratamiento farmacológico con anticuerpos monoclonales es un tratamiento realmente que hoy lo curre en todas las obras sociales es decir tiene tratamiento no tiene cura tiene trataiteneso cambia los hábitos de alimentación también los hábitos de alimentación también estos pacientes tienen una dieta a seguir una dieta más conveniente una dieta saludablerica en fibras con un cuidado especial del intestino no es una dieta que no la pueda hacer o sea no es algo extraordinario si vienes una enfermedad rara cuando se detecta se la puede tratar dctor le ha tocado diagnosticar sísss claro no son muchos los pacientes que hahy el mendoza menos site imagina que a nivel país hay ade los que están documentados estadificados y demás es poco frecuente usted ha podido llevar adelante buenos tratamientos sitenés buenos resultados por qué me habloó el tratamiento psicológico porque es una parte muy importante del paciéntte todas las enfermedades inflamatorias del intestino tienen que tener un acompañamiento psicológico porque están influenciando se considera quel intestino es el segundo cerebro y tiene comunicación con nuestro primer cerebro que es el que la geneque todos conocemoshabitualmente exactamente y de la armonía de los dos cerebros el resultado también del seguimiento deestresfastidios ira cibilidad alibrmentaciónmacedentaría mostavaquismo alcolismo bueno todo lo que te puedas imaginar agrede y tiene sus consecuencias doctorcomo mensaje final no hay que temerles estas cosas sino que hay que enfrentarlas y tratarlas totalmente estos pacientes tienen un seguimiento tienen un tratamiento y no es sinónimo ypara tranquilidad de todos estos pacientes que pueden tener o nos pueden estar escuchando no es sinónimo que van a padecer un cáncer deintestino ni mucho menos tienen exactamente estos pacientes las mismas posibilidades de hacer un cáncer de colón que cualquier otro paciente siempre y cuando estén en tratamiento y en seguimiento rhasido umuy amabl gracias por su tiempo buenas noches\n"
     ]
    }
   ],
   "source": [
    "processed_text = spell_py.correction(input_text)\n",
    "print(processed_text)"
   ]
  },
  {
   "cell_type": "markdown",
   "id": "212e957f-f278-4d75-a67c-2ec39ec9ab96",
   "metadata": {},
   "source": [
    "### Using `autocorrect`\n",
    "- https://github.com/filyp/autocorrect"
   ]
  },
  {
   "cell_type": "code",
   "execution_count": 5,
   "id": "2d82bbca-88f9-4939-bed4-ef3311d5cd19",
   "metadata": {},
   "outputs": [],
   "source": [
    "from autocorrect import Speller\n",
    "spell_autocorrect = Speller(lang='es',only_replacements=True)"
   ]
  },
  {
   "cell_type": "code",
   "execution_count": 6,
   "id": "66df5199-1fd9-434d-88f8-982bd79b0bc4",
   "metadata": {},
   "outputs": [
    {
     "name": "stdout",
     "output_type": "stream",
     "text": [
      "estamos con marcelo ferre es gastro entomólogo cómo le va a doctor buenas noches usada ver hoy charlaba con nuestros compañeros de trabajo y decía no pero murió de un cáncer y había otra enfermedad previa y cómo es estocuéntenos la enfermedad de croncque esta enfermedad de cron correcto fernando la enfermedad de cron es una enfermedad inflamatoria del intestino ique entra dentro del grupo de las enfermedades inflamatorias intestinales que son enfermedades crónicas son autoinmunes tienen una base genética son raras en el sentido del diagnóstico son poco frecuentes hay pacientes en todo el país impacientes con esta enfermedad nada más nada más en todo el país o al menos diagnosticados se diagnosticado y conocido simon algún seguimiento por parte de sus médicos uno cada chabitantes puede tener esta enfermedad aunque no la diagnostiquemos tan frecuentemente y en realidadcuesta diagnosticaron en el sentido al no verla y al no estar en contacto con ellos el diagnóstico es de difícil acceso eldoctor cuéntenos por ejemplo esa imagen que estamos observando nosotrosaimagen completa por favor dire vamos a agradecer porte eldoctor vamos a utilizar una cuestión didáctica esto es un video que nosotros basamos de las redes como para entender cuálesporahí estamos viendo el aparato digestio correcto en ese aparato digestivo la lupa se está posando en dónde en el intestino delgado yang va hacía el grueso ahí va abadía el gruesoeesta enfermedad se manifiesta en el grueso en el delgado o en ambos enambos desde la boca alano color eso las complicaciones tremendas perlas complicaciones que tiene la enfermedad cuando no se le diagnosticuae y no se la atrata esta enfermedad es mortal en realidad es una enfermedad crónica y como todas las enfermedades crónicas yo se la compara con una diabetes por ejemploes una enfermedad que puede terminar siendo mortal pero si no se la controla primero si no se la diagnostica no se la controla y no tiene un seguimiento yo puedo intuir que tengo la enfermedad debian digo de cron por qué síntomas lossíntomas más comunes generalmente gente entre  daños esta edad del debut y tienen dolor abdominal pueden tener diarrea pueden tener fiebre pueden tener algún sangrado intestinal pero a su vez tienen manifestaciones extraintestinales como pueden ser dolores articulares es decir es una enfermedad sistémica es una enfermedad que no solamente puede afectar el intestino delgado quees msu parte más frecuente lugar  que lo afecta puede afectar el colón pero también hay enfermedad de crin de estómago de sótano son más raras dentro de la rareza de la propia enfermedad estas también son más raras las localizacione nosotrosentendemos que en estos espacios lo que vemos hacer es no llenar de miedo sino que instruir a través de la palabra de utdsye los profesionales de cómo no puede estar advertido esto porque por ejemplo si tengo diarrea esta noche no significa que estoy enfermo para climatología puede responder un montón de cosas me comió un lechón y me cayó mal pero lo que te quiero decir des estos elementos qsonaquellos que se conjugan para establecer un primer diagnóstico una aproximación yenes caso de handler all le demandó como trebarracuatro años para diagnosticaron porque son difíciles de diagnosticar al verse poco son difíciles de diagnosticar todo depende por donde uno vaya a consultar si vos me dices yo voy con estos síntomas que acabamos de hablar a un médico clínico por ahí es más gamodifícil para el clínico que para un gastro entomólogo que las vemos más pero no significa que el clínico no las pueda diagnosticar también las puede diagnosticalguna preguntaesta enfermedad podemos decir que decanta en el cáncer que luego termina con la vida de genre o no necesariamente una cosa variada a la otra no necesariamente la enfermedad de crin es una enfermedad repito crónica autinmune que si tiene un seguimiento y tiene un tratamiento no debería terminar en un cancertres patas del tratamiento que usted por ejemplo me diagnosticaron a mí si usted dice mireidalgo usted tiene o padece esta patología tres patas del tratamiento enel tratamiento básicamente tiene que haber un tratamiento psicológicoporque ese paciente tiene que tener una contención tiene que tener un seguimiento y tiene que entender de que esta enfermedad la puede llevar hasta el final de sus días y morir de cualquier otra cosa menos de a enfermedad de from es muy importante el enfoque y el apoyo psicológico después el tratamiento médico hoy envía hay tratamiento farmacológico un tratamiento farmacológico con anticuerpos monoclonales es un tratamiento realmente que hoy lo cubre en todas las obras sociales es decir tiene tratamiento no tiene cura tiene trataiteneso cambia los hábitos de alimentación también los hábitos de alimentación también estos pacientes tienen una dieta a seguir una dieta más conveniente una dieta saludablerica en fibras con un cuidado especial del intestino no es una dieta que no la pueda hacer o sea no es algo extraordinario si vienes una enfermedad rara cuando se detecta se la puede tratar actor le ha tocado diagnosticar swiss claro no son muchos los pacientes que hahn el mendoza menos site imagina que a nivel país hay ade los que están documentados estadificados y demás es poco frecuente usted ha podido llevar adelante buenos tratamientos sirenas buenos resultados por qué me hablar el tratamiento psicológico porque es una parte muy importante del paciéntte todas las enfermedades inflamatorias del intestino tienen que tener un acompañamiento psicológico porque están influenciando se considera quel intestino es el segundo cerebro y tiene comunicación con nuestro primer cerebro que es el que la penique todos conocemoshabitualmente exactamente y de la armonía de los dos cerebros el resultado también del seguimiento deestresfastidios ira civilidad alibrmentaciónmacedentaría mostavaquismo alcolismo bueno todo lo que te puedas imaginar agrede y tiene sus consecuencias doctorcomo mensaje final no hay que tenerlos estas cosas sino que hay que enfrentarlos y tratarlas totalmente estos pacientes tienen un seguimiento tienen un tratamiento y no es sinónimo ópera tranquilidad de todos estos pacientes que pueden tener o nos pueden estar escuchando no es sinónimo que van a padecer un cáncer deintestino ni mucho menos tienen exactamente estos pacientes las mismas posibilidades de hacer un cáncer de colón que cualquier otro paciente siempre y cuando estén en tratamiento y en seguimiento rhasido emmy amaba gracias por su tiempo buenas noches\n"
     ]
    }
   ],
   "source": [
    "processed_text_b = spell_autocorrect(input_text)\n",
    "print(processed_text_b)"
   ]
  },
  {
   "cell_type": "markdown",
   "id": "6eff5f93-0aba-466d-b1bf-22dca757f2e7",
   "metadata": {},
   "source": [
    "## Using Silero \n",
    "Source: https://colab.research.google.com/github/snakers4/silero-models/blob/master/examples_te.ipynb"
   ]
  },
  {
   "cell_type": "code",
   "execution_count": 7,
   "id": "e34b7012-3379-4f6b-983f-613bbaa282f6",
   "metadata": {},
   "outputs": [],
   "source": [
    "import os\n",
    "import yaml\n",
    "import torch\n",
    "from torch import package\n",
    "\n",
    "torch.hub.download_url_to_file('https://raw.githubusercontent.com/snakers4/silero-models/master/models.yml',\n",
    "                               'latest_silero_models.yml',\n",
    "                               progress=False)\n",
    "\n",
    "with open('latest_silero_models.yml', 'r') as yaml_file:\n",
    "    models = yaml.load(yaml_file, Loader=yaml.SafeLoader)\n",
    "model_conf = models.get('te_models').get('latest')"
   ]
  },
  {
   "cell_type": "code",
   "execution_count": 8,
   "id": "cbf12465-5ef8-485e-8daa-c4c81640d234",
   "metadata": {},
   "outputs": [
    {
     "name": "stdout",
     "output_type": "stream",
     "text": [
      "Available languages ['en', 'de', 'ru', 'es']\n",
      "Available punctuation marks ['.', ',', '-', '!', '?', '—']\n"
     ]
    }
   ],
   "source": [
    "# see avaiable languages\n",
    "available_languages = list(model_conf.get('languages'))\n",
    "print(f'Available languages {available_languages}')\n",
    "\n",
    "# and punctuation marks\n",
    "available_punct = list(model_conf.get('punct'))\n",
    "print(f'Available punctuation marks {available_punct}')"
   ]
  },
  {
   "cell_type": "markdown",
   "id": "3e5a3e76-1841-437d-adcb-13f26ccd41e9",
   "metadata": {},
   "source": [
    "### With language label"
   ]
  },
  {
   "cell_type": "code",
   "execution_count": 9,
   "id": "74153e23-268a-40d3-af23-82f43a70f7a8",
   "metadata": {},
   "outputs": [],
   "source": [
    "model_url = model_conf.get('package')\n",
    "\n",
    "model_dir = \"downloaded_model\"\n",
    "os.makedirs(model_dir, exist_ok=True)\n",
    "model_path = os.path.join(model_dir, os.path.basename(model_url))\n",
    "\n",
    "if not os.path.isfile(model_path):\n",
    "    torch.hub.download_url_to_file(model_url,\n",
    "                                   model_path,\n",
    "                                   progress=True)\n",
    "\n",
    "imp = package.PackageImporter(model_path)\n",
    "model = imp.load_pickle(\"te_model\", \"model\")\n",
    "\n",
    "def apply_te(text, lan='es'):\n",
    "    return model.enhance_text(text, lan)"
   ]
  },
  {
   "cell_type": "code",
   "execution_count": 10,
   "id": "8a588be9-4604-409a-b90e-03971f2c8e24",
   "metadata": {},
   "outputs": [
    {
     "name": "stdout",
     "output_type": "stream",
     "text": [
      "Estamos con Marcelo Ferre es gastro enterólogo cómo le va a doctor buenas noches Unasa ver hoy charlaba con nuestros compañeros de trabajo y decía no pero murió de un cáncer y había otra enfermedad previa y cómo es estocuéntenos. La enfermedad de Croncque esla enfermedad de Cron correcto Fernando. La enfermedad de Cron es una enfermedad inflamatoria del intestino Sque entra dentro del grupo de las enfermedades inflamatorias intestinales que son enfermedades crónicas son autoinmunes tienen una base genética. Son raras en el sentido del diagnóstico Son poco frecuentes. Hay pacientes en todo el país empacientes con esta enfermedad nada más nada más en todo el país o al menos diagnosticados. Se diagnosticado y conocido sicon algún seguimiento por parte de sus médicos. Uno cada chabitantes puede tener esta enfermedad, aunque no la diagnostiquemos tan frecuentemente y en realidadcuesta diagnosticarla en el sentido al no verla y al no. estar en contacto con ellos el diagnóstico es de difícil acceso Eldoctor cuéntenos, por ejemplo, esa imagen que estamos observando nosotrosaimagen completa por favor dire vamos a agradecer porqe. Eldoctor vamos a utilizar una cuestión didáctica. Esto es un video que nosotros bajamos de las redes como para entender cuálesporahí Estamos viendo el aparato digestio correcto en ese aparato digestivo. La lupa se está posando en dónde en el intestino delgado yahí va hacía el grueso ahí va ahacía el gruesoeesta enfermedad se manifiesta en el grueso en el delgado o en ambos enambos desde la boca alano aopor eso las complicaciones tremendas porlas complicaciones que tiene la enfermedad cuando no se le diagnosticuae y no se la atrata. Esta enfermedad es mortal en realidad es una enfermedad crónica y como todas las enfermedades crónicas. Yo se la comparo con una diabetes por ejemploes una enfermedad que puede terminar siendo. mortal, pero si no se la controla primero si no se la diagnostica, no se la controla y no tiene un seguimiento. Yo puedo intuir que tengo la enfermedad debien digo de cron, por qué síntomas lossíntomas más comunes generalmente gente entre taños esla edad del debut y tienen dolor abdominal. Pueden tener diarrea. Pueden tener fiebre. Pueden tener algún sangrado intestinal, pero a su vez tienen manifestaciones extraintestinales como pueden ser dolores articulares. Es decir, es una enfermedad sistémica. Es una enfermedad que no solamente puede afectar el intestino delgado. Quees MsU parte más frecuente lugar que lo afecta puede afectar el colón, pero también hay enfermedad de crón de estómago de sófago. Son más raras dentro de la rareza de la propia enfermedad. Estas también son más raras. Las localizacione nosotrosentendemos que en estos espacios lo que vemos hacer es no llenar de miedo, sino que instruir a través de la palabra de UtDsye. Los profesionales de cómo no puede estar advertido esto porque, por ejemplo, si tengo diarrea esta noche no significa que estoy enfermo para itimatología puede responder un montón de cosas. Me comió un lechón y me cayó mal, pero lo que te quiero decir des estos elementos qsonaquellos que se conjugan para establecer un primer diagnóstico. Una aproximación yenel caso de Hendler Aél le demandó como trebarracuatro años para diagnosticarla porque son difíciles de diagnosticar al verse poco son difíciles de diagnosticar todo depende por donde uno vaya a consultar. Si vos me dices. Yo voy con estos síntomas que acabamos de hablar a un médico clínico. Por ahí es más gamodifícil para el clínico que para un gastro enterólogo que las vemos más. Pero no significa que el clínico no las pueda diagnosticar. También las puede diagnosticalguna preguntaesta enfermedad podemos decir que decanta en el cáncer que luego termina con la vida de genre o no necesariamente una cosa vaatada a la otra no necesariamente. La enfermedad de crón es una enfermedad repito crónica autinmune que si tiene un seguimiento y tiene un tratamiento no debería terminar en un cancertres patas del tratamiento que usted, por ejemplo, me diagnosticaría a mí Si usted dice mireidalgo usted tiene o padece esta patología tres patas del tratamiento enel tratamiento básicamente tiene que haber un tratamiento psicológicoporque. Ese paciente tiene que tener una contención tiene que tener un seguimiento y tiene que entender de que esta enfermedad la puede llevar hasta el final de sus días y morir de cualquier otra cosa menos de a enfermedad de Crom es muy importante el enfoque y el apoyo. psicológico después el tratamiento médico hoy endía Hay tratamiento farmacológico, Un tratamiento farmacológico con anticuerpos monoclonales. Es un tratamiento realmente que hoy lo curre en todas las obras sociales. Es decir, tiene tratamiento no tiene cura tiene trataiteneso cambia los hábitos de alimentación, También los hábitos de alimentación. También estos pacientes tienen una dieta a seguir una dieta más conveniente. Una dieta saludablerica en fibras con un cuidado especial del intestino. No es una dieta que no la pueda hacer o sea no es algo extraordinario si vienes una enfermedad rara cuando se detecta se la puede tratar dctor le ha tocado diagnosticar sísss claro. No son muchos los pacientes que hahy el mendoza menos site imagina que a nivel país hay ade los que están documentados estadificados y demás es poco frecuente Usted ha podido llevar adelante buenos tratamientos sitenés buenos resultados, por qué me habloó el tratamiento psicológico. Porque es una parte muy importante del paciéntte. Todas las enfermedades inflamatorias del intestino tienen que tener un acompañamiento psicológico porque están influenciando se considera quel intestino. Es el segundo cerebro y tiene comunicación con nuestro primer cerebro que es el que la geneque todos conocemoshabitualmente exactamente y de la armonía de los dos cerebros. El resultado también del seguimiento deestresfastidios ira cibilidad alibrmentaciónmacedentaría mostavaquismo alcolismo bueno todo lo que te puedas imaginar agrede y tiene sus consecuencias Doctorcomo mensaje final. No hay que temerles estas cosas, sino que hay que enfrentarlas y tratarlas totalmente. Estos pacientes tienen un seguimiento tienen un tratamiento y no es sinónimo ypara tranquilidad De todos estos pacientes que pueden tener o nos pueden estar escuchando. No es sinónimo que van a padecer un cáncer deintestino, ni mucho menos tienen exactamente estos pacientes. Las mismas posibilidades de hacer un cáncer de colón que cualquier otro. Paciente siempre y cuando estén en tratamiento y en seguimiento rhasido Umuy Amabl gracias por su tiempo buenas noches.\n"
     ]
    }
   ],
   "source": [
    "output_text = apply_te(processed_text, lan='es')\n",
    "print(output_text)"
   ]
  },
  {
   "cell_type": "markdown",
   "id": "51d5e814-e608-4505-a2e4-ca844f68b07e",
   "metadata": {},
   "source": [
    "### With fasttext for language detection"
   ]
  },
  {
   "cell_type": "code",
   "execution_count": 11,
   "id": "b3a4a486-406b-45ff-9747-e590d9a0b4f7",
   "metadata": {},
   "outputs": [
    {
     "name": "stdout",
     "output_type": "stream",
     "text": [
      "Detected language: es\n"
     ]
    },
    {
     "name": "stderr",
     "output_type": "stream",
     "text": [
      "Warning : `load_model` does not return WordVectorModel or SupervisedModel any more, but a `FastText` object which is very similar.\n"
     ]
    }
   ],
   "source": [
    "from ftlangdetect import detect\n",
    "\n",
    "lan = detect(text=processed_text, low_memory=False)['lang']\n",
    "print(f\"Detected language: {lan}\")"
   ]
  },
  {
   "cell_type": "code",
   "execution_count": 12,
   "id": "10ba43c6-d668-42f2-ad47-4c5c6e64ddbb",
   "metadata": {},
   "outputs": [
    {
     "name": "stderr",
     "output_type": "stream",
     "text": [
      "Using cache found in /home/studio-lab-user/.cache/torch/hub/snakers4_silero-models_master\n"
     ]
    }
   ],
   "source": [
    "import torch\n",
    "\n",
    "model, example_texts, languages, punct, apply_te = torch.hub.load(repo_or_dir='snakers4/silero-models',\n",
    "                                                                  model='silero_te')"
   ]
  },
  {
   "cell_type": "code",
   "execution_count": 13,
   "id": "dc9ffdb2-6d53-4947-acaa-e4f158acd246",
   "metadata": {},
   "outputs": [
    {
     "name": "stdout",
     "output_type": "stream",
     "text": [
      "Estamos con Marcelo Ferre es gastro enterólogo cómo le va a doctor buenas noches Unasa ver hoy charlaba con nuestros compañeros de trabajo y decía no pero murió de un cáncer y había otra enfermedad previa y cómo es estocuéntenos. La enfermedad de Croncque esla enfermedad de Cron correcto Fernando. La enfermedad de Cron es una enfermedad inflamatoria del intestino Sque entra dentro del grupo de las enfermedades inflamatorias intestinales que son enfermedades crónicas son autoinmunes tienen una base genética. Son raras en el sentido del diagnóstico Son poco frecuentes. Hay pacientes en todo el país empacientes con esta enfermedad nada más nada más en todo el país o al menos diagnosticados. Se diagnosticado y conocido sicon algún seguimiento por parte de sus médicos. Uno cada chabitantes puede tener esta enfermedad, aunque no la diagnostiquemos tan frecuentemente y en realidadcuesta diagnosticarla en el sentido al no verla y al no. estar en contacto con ellos el diagnóstico es de difícil acceso Eldoctor cuéntenos, por ejemplo, esa imagen que estamos observando nosotrosaimagen completa por favor dire vamos a agradecer porqe. Eldoctor vamos a utilizar una cuestión didáctica. Esto es un video que nosotros bajamos de las redes como para entender cuálesporahí Estamos viendo el aparato digestio correcto en ese aparato digestivo. La lupa se está posando en dónde en el intestino delgado yahí va hacía el grueso ahí va ahacía el gruesoeesta enfermedad se manifiesta en el grueso en el delgado o en ambos enambos desde la boca alano aopor eso las complicaciones tremendas porlas complicaciones que tiene la enfermedad cuando no se le diagnosticuae y no se la atrata. Esta enfermedad es mortal en realidad es una enfermedad crónica y como todas las enfermedades crónicas. Yo se la comparo con una diabetes por ejemploes una enfermedad que puede terminar siendo. mortal, pero si no se la controla primero si no se la diagnostica, no se la controla y no tiene un seguimiento. Yo puedo intuir que tengo la enfermedad debien digo de cron, por qué síntomas lossíntomas más comunes generalmente gente entre taños esla edad del debut y tienen dolor abdominal. Pueden tener diarrea. Pueden tener fiebre. Pueden tener algún sangrado intestinal, pero a su vez tienen manifestaciones extraintestinales como pueden ser dolores articulares. Es decir, es una enfermedad sistémica. Es una enfermedad que no solamente puede afectar el intestino delgado. Quees MsU parte más frecuente lugar que lo afecta puede afectar el colón, pero también hay enfermedad de crón de estómago de sófago. Son más raras dentro de la rareza de la propia enfermedad. Estas también son más raras. Las localizacione nosotrosentendemos que en estos espacios lo que vemos hacer es no llenar de miedo, sino que instruir a través de la palabra de UtDsye. Los profesionales de cómo no puede estar advertido esto porque, por ejemplo, si tengo diarrea esta noche no significa que estoy enfermo para itimatología puede responder un montón de cosas. Me comió un lechón y me cayó mal, pero lo que te quiero decir des estos elementos qsonaquellos que se conjugan para establecer un primer diagnóstico. Una aproximación yenel caso de Hendler Aél le demandó como trebarracuatro años para diagnosticarla porque son difíciles de diagnosticar al verse poco son difíciles de diagnosticar todo depende por donde uno vaya a consultar. Si vos me dices. Yo voy con estos síntomas que acabamos de hablar a un médico clínico. Por ahí es más gamodifícil para el clínico que para un gastro enterólogo que las vemos más. Pero no significa que el clínico no las pueda diagnosticar. También las puede diagnosticalguna preguntaesta enfermedad podemos decir que decanta en el cáncer que luego termina con la vida de genre o no necesariamente una cosa vaatada a la otra no necesariamente. La enfermedad de crón es una enfermedad repito crónica autinmune que si tiene un seguimiento y tiene un tratamiento no debería terminar en un cancertres patas del tratamiento que usted, por ejemplo, me diagnosticaría a mí Si usted dice mireidalgo usted tiene o padece esta patología tres patas del tratamiento enel tratamiento básicamente tiene que haber un tratamiento psicológicoporque. Ese paciente tiene que tener una contención tiene que tener un seguimiento y tiene que entender de que esta enfermedad la puede llevar hasta el final de sus días y morir de cualquier otra cosa menos de a enfermedad de Crom es muy importante el enfoque y el apoyo. psicológico después el tratamiento médico hoy endía Hay tratamiento farmacológico, Un tratamiento farmacológico con anticuerpos monoclonales. Es un tratamiento realmente que hoy lo curre en todas las obras sociales. Es decir, tiene tratamiento no tiene cura tiene trataiteneso cambia los hábitos de alimentación, También los hábitos de alimentación. También estos pacientes tienen una dieta a seguir una dieta más conveniente. Una dieta saludablerica en fibras con un cuidado especial del intestino. No es una dieta que no la pueda hacer o sea no es algo extraordinario si vienes una enfermedad rara cuando se detecta se la puede tratar dctor le ha tocado diagnosticar sísss claro. No son muchos los pacientes que hahy el mendoza menos site imagina que a nivel país hay ade los que están documentados estadificados y demás es poco frecuente Usted ha podido llevar adelante buenos tratamientos sitenés buenos resultados, por qué me habloó el tratamiento psicológico. Porque es una parte muy importante del paciéntte. Todas las enfermedades inflamatorias del intestino tienen que tener un acompañamiento psicológico porque están influenciando se considera quel intestino. Es el segundo cerebro y tiene comunicación con nuestro primer cerebro que es el que la geneque todos conocemoshabitualmente exactamente y de la armonía de los dos cerebros. El resultado también del seguimiento deestresfastidios ira cibilidad alibrmentaciónmacedentaría mostavaquismo alcolismo bueno todo lo que te puedas imaginar agrede y tiene sus consecuencias Doctorcomo mensaje final. No hay que temerles estas cosas, sino que hay que enfrentarlas y tratarlas totalmente. Estos pacientes tienen un seguimiento tienen un tratamiento y no es sinónimo ypara tranquilidad De todos estos pacientes que pueden tener o nos pueden estar escuchando. No es sinónimo que van a padecer un cáncer deintestino, ni mucho menos tienen exactamente estos pacientes. Las mismas posibilidades de hacer un cáncer de colón que cualquier otro. Paciente siempre y cuando estén en tratamiento y en seguimiento rhasido Umuy Amabl gracias por su tiempo buenas noches.\n"
     ]
    }
   ],
   "source": [
    "output_text = apply_te(processed_text, lan='es')\n",
    "print(output_text)"
   ]
  },
  {
   "cell_type": "markdown",
   "id": "61e930ff-f9d8-402b-a560-0d839d3c601f",
   "metadata": {},
   "source": [
    "## Using \"Deep Multilingual Punctuation\""
   ]
  },
  {
   "cell_type": "markdown",
   "id": "9bf27e47-5914-4a93-8db8-2b0a8ec072b3",
   "metadata": {},
   "source": [
    "The `PunctuationModel` class an process texts of any length. Note that processing of very long texts can be time consuming."
   ]
  },
  {
   "cell_type": "code",
   "execution_count": 14,
   "id": "eb348773-ce60-4e81-8946-53f20ec5fd10",
   "metadata": {},
   "outputs": [],
   "source": [
    "from deepmultilingualpunctuation import PunctuationModel"
   ]
  },
  {
   "cell_type": "code",
   "execution_count": 15,
   "id": "808dd6dd-4a04-4507-b65d-5075507cc055",
   "metadata": {},
   "outputs": [
    {
     "name": "stderr",
     "output_type": "stream",
     "text": [
      "/home/studio-lab-user/.conda/envs/machinelearnear-asr-clinical-biomedical-ehr/lib/python3.9/site-packages/transformers/pipelines/token_classification.py:135: UserWarning: `grouped_entities` is deprecated and will be removed in version v5.0.0, defaulted to `aggregation_strategy=\"AggregationStrategy.NONE\"` instead.\n",
      "  warnings.warn(\n"
     ]
    }
   ],
   "source": [
    "model = PunctuationModel(model='oliverguhr/fullstop-punctuation-multilingual-base')"
   ]
  },
  {
   "cell_type": "code",
   "execution_count": 16,
   "id": "9f2f6844-c6d7-4ee6-9980-ec3ce9d228dd",
   "metadata": {},
   "outputs": [
    {
     "name": "stdout",
     "output_type": "stream",
     "text": [
      "Estamos con Marcelo Ferre. es gastro enterólogo. cómo le va a doctor? buenas noches, Unasa ver. hoy charlaba con nuestros compañeros de trabajo y decía: no, pero murió de un cáncer y había otra enfermedad previa. y cómo es estocuéntenos La enfermedad de Croncque? esla enfermedad de Cron, correcto, Fernando? La enfermedad de Cron es una enfermedad inflamatoria del intestino Sque entra dentro del grupo de las enfermedades inflamatorias intestinales, que son enfermedades crónicas, son autoinmunes, tienen una base genética, Son raras en el sentido del diagnóstico, Son poco frecuentes. Hay pacientes en todo el país empacientes con esta enfermedad, nada más, nada más en todo el país, o al menos diagnosticados, Se diagnosticado y conocido, sicon algún seguimiento por parte de sus médicos. Uno cada chabitantes puede tener esta enfermedad, aunque no la diagnostiquemos tan frecuentemente y en realidadcuesta diagnosticarla en el sentido, al no verla y al no estar en contacto con ellos, el diagnóstico es de difícil acceso. Eldoctor, cuéntenos, por ejemplo, esa imagen que estamos observando nosotrosaimagen completa. por favor dire: vamos a agradecer porqe Eldoctor, vamos a utilizar una cuestión didáctica. Esto es un video que nosotros bajamos de las redes, como para entender cuálesporahí Estamos viendo el aparato digestio correcto. en ese aparato digestivo, La lupa se está posando en dónde, en el intestino delgado, yahí va hacía el grueso. ahí va ahacía el gruesoeesta enfermedad se manifiesta en el grueso, en el delgado o en ambos enambos, desde la boca alano aopor eso las complicaciones tremendas porlas complicaciones que tiene la enfermedad cuando no se le diagnosticuae y no se la atrata. Esta enfermedad es mortal. en realidad es una enfermedad crónica y, como todas las enfermedades crónicas, Yo se la comparo con una diabetes, por ejemploes una enfermedad que puede terminar siendo mortal, pero si no se la controla primero, si no se la diagnostica, no se la controla y no tiene un seguimiento. Yo puedo intuir que tengo la enfermedad, debien digo de cron. por qué síntomas? lossíntomas más comunes, generalmente gente entre taños, esla edad del debut y tienen dolor abdominal. Pueden tener diarrea, Pueden tener fiebre, Pueden tener algún sangrado intestinal, pero a su vez tienen manifestaciones extraintestinales, como pueden ser dolores articulares. Es decir, es una enfermedad sistémica. Es una enfermedad que no solamente puede afectar el intestino delgado, Quees MsU, parte más frecuente, lugar que lo afecta. puede afectar el colón, pero también hay enfermedad de crón, de estómago, de sófago. Son más raras. dentro de la rareza de la propia enfermedad, Estas también son más raras Las localizacione. nosotrosentendemos que en estos espacios, lo que vemos hacer es no llenar de miedo, sino que instruir a través de la palabra de UtDsye Los profesionales, de cómo no puede estar advertido esto? porque, por ejemplo, si tengo diarrea esta noche, no significa que estoy enfermo para itimatología. puede responder un montón de cosas. Me comió un lechón y me cayó mal. pero lo que te quiero decir des estos elementos qsonaquellos que se conjugan para establecer un primer diagnóstico, Una aproximación yenel caso de Hendler Aél le demandó como trebarracuatro años para diagnosticarla, porque son difíciles de diagnosticar. al verse poco, son difíciles de diagnosticar. todo depende por donde uno vaya a consultar. Si vos me dices, Yo voy con estos síntomas que acabamos de hablar a un médico clínico Por ahí, es más gamodifícil para el clínico que para un gastro enterólogo, que las vemos más. Pero no significa que el clínico no las pueda diagnosticar. También las puede diagnosticalguna preguntaesta enfermedad podemos decir que decanta en el cáncer, que luego termina con la vida de genre o no necesariamente una cosa vaatada a la otra? no necesariamente. La enfermedad de crón es una enfermedad, repito, crónica, autinmune, que, si tiene un seguimiento y tiene un tratamiento, no debería terminar en un cancertres patas del tratamiento que usted, por ejemplo, me diagnosticaría a mí. Si usted dice, mireidalgo, usted tiene o padece esta patología, tres patas del tratamiento enel tratamiento básicamente tiene que haber un tratamiento psicológicoporque Ese paciente tiene que tener una contención, tiene que tener un seguimiento y tiene que entender de que esta enfermedad la puede llevar hasta el final de sus días y morir de cualquier otra cosa, menos de a enfermedad de Crom. es muy importante el enfoque y el apoyo psicológico. después el tratamiento médico. hoy endía Hay tratamiento farmacológico, Un tratamiento farmacológico con anticuerpos monoclonales. Es un tratamiento realmente que hoy lo curre en todas las obras sociales. Es decir: tiene tratamiento, no tiene cura, tiene trataiteneso cambia los hábitos de alimentación, También los hábitos de alimentación. También estos pacientes tienen una dieta a seguir, una dieta más conveniente, Una dieta saludablerica en fibras, con un cuidado especial del intestino. No es una dieta que no la pueda hacer, o sea no es algo extraordinario. si vienes una enfermedad rara, cuando se detecta, se la puede tratar. dctor le ha tocado diagnosticar sísss. claro, No son muchos los pacientes que hahy el mendoza menos site imagina que a nivel país hay ade, los que están documentados, estadificados y demás. es poco frecuente. Usted ha podido llevar adelante buenos tratamientos sitenés buenos resultados. por qué me habloó el tratamiento psicológico? Porque es una parte muy importante del paciéntte. Todas las enfermedades inflamatorias del intestino tienen que tener un acompañamiento psicológico, porque están influenciando. se considera quel intestino Es el segundo cerebro y tiene comunicación con nuestro primer cerebro, que es el que la geneque todos conocemoshabitualmente exactamente, y de la armonía de los dos cerebros, El resultado también del seguimiento deestresfastidios, ira, cibilidad, alibrmentaciónmacedentaría, mostavaquismo, alcolismo. bueno, todo lo que te puedas imaginar agrede y tiene sus consecuencias. Doctorcomo mensaje final, No hay que temerles estas cosas, sino que hay que enfrentarlas y tratarlas totalmente. Estos pacientes tienen un seguimiento, tienen un tratamiento, y no es sinónimo ypara tranquilidad De todos estos pacientes que pueden tener o nos pueden estar escuchando. No es sinónimo que van a padecer un cáncer deintestino, ni mucho menos tienen exactamente estos pacientes Las mismas posibilidades de hacer un cáncer de colón que cualquier otro Paciente, siempre y cuando estén en tratamiento y en seguimiento. rhasido Umuy Amabl, gracias por su tiempo. buenas noches.\n"
     ]
    }
   ],
   "source": [
    "result = model.restore_punctuation(output_text)\n",
    "print(result)"
   ]
  },
  {
   "cell_type": "markdown",
   "id": "e99a8eca-7cc4-418b-991c-b1b1f47351d2",
   "metadata": {
    "tags": []
   },
   "source": [
    "## Save results"
   ]
  },
  {
   "cell_type": "code",
   "execution_count": 17,
   "id": "d8a176be-b205-438a-8c6f-ceca6f5ae06a",
   "metadata": {},
   "outputs": [],
   "source": [
    "with open(f'transcripts/transcribed_speech_w_corrected_punctuation.txt', \"w\") as f:\n",
    "    f.write(result)"
   ]
  },
  {
   "cell_type": "markdown",
   "id": "e52f7892-5923-4db4-ae7e-749e004f96ea",
   "metadata": {},
   "source": [
    "## References"
   ]
  },
  {
   "cell_type": "markdown",
   "id": "735ab3ca-2353-468b-8548-59ff44ed3a2d",
   "metadata": {},
   "source": [
    "- https://huggingface.co/speeqo/bert-restore-punctuation\n",
    "- https://huggingface.co/softcatala/fullstop-catalan-punctuation-prediction\n",
    "- https://github.com/oliverguhr/fullstop-deep-punctuation-prediction\n",
    "- https://huggingface.co/kredor/punctuate-all\n",
    "- https://huggingface.co/SJ-Ray/Re-Punctuate\n",
    "- https://github.com/xashru/punctuation-restoration\n",
    "- https://github.com/snakers4/silero-models#text-enhancement"
   ]
  }
 ],
 "metadata": {
  "kernelspec": {
   "display_name": "machinelearnear-asr-clinical-biomedical-ehr:Python",
   "language": "python",
   "name": "conda-env-machinelearnear-asr-clinical-biomedical-ehr-py"
  },
  "language_info": {
   "codemirror_mode": {
    "name": "ipython",
    "version": 3
   },
   "file_extension": ".py",
   "mimetype": "text/x-python",
   "name": "python",
   "nbconvert_exporter": "python",
   "pygments_lexer": "ipython3",
   "version": "3.9.12"
  }
 },
 "nbformat": 4,
 "nbformat_minor": 5
}
